{
  "nbformat": 4,
  "nbformat_minor": 0,
  "metadata": {
    "colab": {
      "name": "Heatmap_Visualization.ipynb",
      "provenance": [],
      "collapsed_sections": [],
      "authorship_tag": "ABX9TyOUqHMAj/CTY/k/nJuFCNcO",
      "include_colab_link": true
    },
    "kernelspec": {
      "name": "python3",
      "display_name": "Python 3"
    },
    "language_info": {
      "name": "python"
    }
  },
  "cells": [
    {
      "cell_type": "markdown",
      "metadata": {
        "id": "view-in-github",
        "colab_type": "text"
      },
      "source": [
        "<a href=\"https://colab.research.google.com/github/vivianlu63/MotorImagery-Analysis/blob/main/Heatmap_Visualization.ipynb\" target=\"_parent\"><img src=\"https://colab.research.google.com/assets/colab-badge.svg\" alt=\"Open In Colab\"/></a>"
      ]
    },
    {
      "cell_type": "code",
      "metadata": {
        "colab": {
          "base_uri": "https://localhost:8080/"
        },
        "id": "jl8YnTQS8Vtr",
        "outputId": "010321a5-9075-4127-fc85-4dbe8d22976f"
      },
      "source": [
        "from google.colab import drive\n",
        "drive.mount('/content/drive')"
      ],
      "execution_count": 1,
      "outputs": [
        {
          "output_type": "stream",
          "text": [
            "Mounted at /content/drive\n"
          ],
          "name": "stdout"
        }
      ]
    },
    {
      "cell_type": "code",
      "metadata": {
        "colab": {
          "base_uri": "https://localhost:8080/"
        },
        "id": "4tUVnJh-WpkR",
        "outputId": "91978e84-c381-491a-fedc-a2dd2032cedb"
      },
      "source": [
        "!pip install nilearn --quiet\n",
        "!pip install nimare --quiet\n",
        "!pip install mne"
      ],
      "execution_count": 2,
      "outputs": [
        {
          "output_type": "stream",
          "text": [
            "\u001b[K     |████████████████████████████████| 4.9MB 4.3MB/s \n",
            "\u001b[K     |████████████████████████████████| 399kB 4.2MB/s \n",
            "\u001b[K     |████████████████████████████████| 2.7MB 8.3MB/s \n",
            "\u001b[?25h  Building wheel for cognitiveatlas (setup.py) ... \u001b[?25l\u001b[?25hdone\n",
            "Collecting mne\n",
            "\u001b[?25l  Downloading https://files.pythonhosted.org/packages/60/f7/2bf5de3fad42b66d00ee27539bc3be0260b4e66fdecc12f740cdf2daf2e7/mne-0.23.0-py3-none-any.whl (6.9MB)\n",
            "\u001b[K     |████████████████████████████████| 7.0MB 4.1MB/s \n",
            "\u001b[?25hRequirement already satisfied: numpy>=1.15.4 in /usr/local/lib/python3.7/dist-packages (from mne) (1.19.5)\n",
            "Requirement already satisfied: scipy>=1.1.0 in /usr/local/lib/python3.7/dist-packages (from mne) (1.4.1)\n",
            "Installing collected packages: mne\n",
            "Successfully installed mne-0.23.0\n"
          ],
          "name": "stdout"
        }
      ]
    },
    {
      "cell_type": "code",
      "metadata": {
        "id": "zJgGhW7Y8cDZ"
      },
      "source": [
        "import os, requests\n",
        "\n",
        "fname = 'motor_imagery.npz'\n",
        "url = \"https://osf.io/ksqv8/download\"\n",
        "\n",
        "if not os.path.isfile(fname):\n",
        "  try:\n",
        "    r = requests.get(url)\n",
        "  except requests.ConnectionError:\n",
        "    print(\"!!! Failed to download data !!!\")\n",
        "  else:\n",
        "    if r.status_code != requests.codes.ok:\n",
        "      print(\"!!! Failed to download data !!!\")\n",
        "    else:\n",
        "      with open(fname, \"wb\") as fid:\n",
        "        fid.write(r.content)"
      ],
      "execution_count": 3,
      "outputs": []
    },
    {
      "cell_type": "code",
      "metadata": {
        "id": "aHukqpCm9JCZ"
      },
      "source": [
        "from matplotlib import rcParams \n",
        "from matplotlib import pyplot as plt\n",
        "import numpy as np\n",
        "from matplotlib.cm import get_cmap\n",
        "from scipy import signal\n",
        "\n",
        "import mne\n",
        "from mne.viz import plot_alignment, snapshot_brain_montage\n",
        "rcParams['figure.figsize'] = [20, 4]\n",
        "rcParams['font.size'] =15\n",
        "rcParams['axes.spines.top'] = False\n",
        "rcParams['axes.spines.right'] = False\n",
        "rcParams['figure.autolayout'] = True"
      ],
      "execution_count": 4,
      "outputs": []
    },
    {
      "cell_type": "code",
      "metadata": {
        "id": "KPlLIr_39T_x"
      },
      "source": [
        "alldat = np.load(fname, allow_pickle=True)['dat']"
      ],
      "execution_count": 5,
      "outputs": []
    },
    {
      "cell_type": "code",
      "metadata": {
        "id": "6UVKFSg89eKE"
      },
      "source": [
        "# pick subject 0 and experiment 0 (real movements)\n",
        "dat1 = alldat[0][0]\n",
        "\n",
        "# V is the voltage data\n",
        "V = dat1['V'].astype('float32')\n",
        "\n",
        "# high-pass filter above 50 Hz\n",
        "b, a = signal.butter(3, [50], btype = 'high', fs=1000)\n",
        "V = signal.filtfilt(b,a,V,0)\n",
        "\n",
        "# compute smooth envelope of this signal = approx power\n",
        "V = np.abs(V)**2\n",
        "b, a = signal.butter(3, [10], btype = 'low', fs=1000)\n",
        "V = signal.filtfilt(b,a,V,0)\n",
        "\n",
        "# normalize each channel so its mean power is 1\n",
        "V = V/V.mean(0)"
      ],
      "execution_count": 6,
      "outputs": []
    },
    {
      "cell_type": "code",
      "metadata": {
        "id": "Td_YIBonG3Eo"
      },
      "source": [
        "nt, nchan = V.shape\n",
        "nstim = len(dat1['t_on'])\n",
        "\n",
        "trange = np.arange(0, 2000)\n",
        "ts = dat1['t_on'][:,np.newaxis] + trange\n",
        "V_epochs = np.reshape(V[ts, :], (nstim, 2000, nchan))\n",
        "\n",
        "V_tongue = (V_epochs[dat1['stim_id']==11])\n",
        "V_hand   = (V_epochs[dat1['stim_id']==12])\n"
      ],
      "execution_count": 40,
      "outputs": []
    },
    {
      "cell_type": "code",
      "metadata": {
        "id": "bZ28COSXQicL"
      },
      "source": [
        "V_hand = V_hand.reshape(V_hand.shape[0] * V_hand.shape[1], V_hand.shape[2])\n",
        "flipped_array = np.array([V_hand[:, sample] for sample in range(V_hand.shape[1])])"
      ],
      "execution_count": 41,
      "outputs": []
    },
    {
      "cell_type": "code",
      "metadata": {
        "colab": {
          "base_uri": "https://localhost:8080/",
          "height": 243
        },
        "id": "OXuZMbCeYJN7",
        "outputId": "ef05c80f-732e-4541-f134-ea898b90091e"
      },
      "source": [
        "mne.create_info(46, dat1['srate'] * 2, 'ecog')"
      ],
      "execution_count": 8,
      "outputs": [
        {
          "output_type": "execute_result",
          "data": {
            "text/html": [
              "\n",
              "<table class=\"table table-hover\">\n",
              "    <tr>\n",
              "        <th>Measurement date</th>\n",
              "<td>Unknown</td>\n",
              "    </tr>\n",
              "    <tr>\n",
              "        <th>Experimenter</th>\n",
              "<td>Unknown</td>\n",
              "    </tr>\n",
              "        <th>Participant</th>\n",
              "<td>Unknown</td>\n",
              "    </tr>\n",
              "    <tr>\n",
              "        <th>Digitized points</th>\n",
              "        <td>Not available</td>\n",
              "    </tr>\n",
              "    <tr>\n",
              "        <th>Good channels</th>\n",
              "        <td>0 magnetometer, 0 gradiometer,\n",
              "            and 0 EEG channels</td>\n",
              "    </tr>\n",
              "    <tr>\n",
              "        <th>Bad channels</th>\n",
              "        <td></td>\n",
              "        \n",
              "    </tr>\n",
              "    <tr>\n",
              "        <th>EOG channels</th>\n",
              "        <td>Not available</td>\n",
              "    </tr>\n",
              "    <tr>\n",
              "        <th>ECG channels</th>\n",
              "        <td>Not available</td>\n",
              "    <tr>\n",
              "        <th>Sampling frequency</th>\n",
              "        <td>2000.00 Hz</td>\n",
              "    </tr>\n",
              "    <tr>\n",
              "        <th>Highpass</th>\n",
              "        <td>0.00 Hz</td>\n",
              "    </tr>\n",
              "     <tr>\n",
              "        <th>Lowpass</th>\n",
              "        <td>1000.00 Hz</td>\n",
              "    </tr>\n",
              "</table>\n"
            ],
            "text/plain": [
              "<Info | 7 non-empty values\n",
              " bads: []\n",
              " ch_names: 0, 1, 2, 3, 4, 5, 6, 7, 8, 9, 10, 11, 12, 13, 14, 15, 16, 17, ...\n",
              " chs: 46 ECOG\n",
              " custom_ref_applied: False\n",
              " highpass: 0.0 Hz\n",
              " lowpass: 1000.0 Hz\n",
              " meas_date: unspecified\n",
              " nchan: 46\n",
              " projs: []\n",
              " sfreq: 2000.0 Hz\n",
              ">"
            ]
          },
          "metadata": {
            "tags": []
          },
          "execution_count": 8
        }
      ]
    },
    {
      "cell_type": "code",
      "metadata": {
        "id": "6KsRgFkycBI4"
      },
      "source": [
        ""
      ],
      "execution_count": 8,
      "outputs": []
    },
    {
      "cell_type": "code",
      "metadata": {
        "id": "B-cSp3T4XUK6"
      },
      "source": [
        "nt, nchan = V.shape\n",
        "nstim = len(dat1['t_on'])\n",
        "\n",
        "trange = np.arange(0, 2000)\n",
        "ts = dat1['t_on'][:,np.newaxis] + trange\n",
        "V_epochs = np.reshape(V[ts, :], (nstim, 2000, nchan))\n",
        "\n",
        "V_tongue = (V_epochs[dat1['stim_id']==11]).mean(0)\n",
        "V_hand   = (V_epochs[dat1['stim_id']==12]).mean(0)"
      ],
      "execution_count": 10,
      "outputs": []
    },
    {
      "cell_type": "code",
      "metadata": {
        "colab": {
          "base_uri": "https://localhost:8080/",
          "height": 204
        },
        "id": "O6IKA6W1_pJK",
        "outputId": "337609db-ec8b-4a58-c85c-a0ca0d8f4601"
      },
      "source": [
        "epoch_length = 2000  # seconds\n",
        "epochs = mne.Epochs(raw, dat1, event_id=11,\n",
        "                    tmin=dat1['t_on'], tmax=dat1['t_on'] + epoch_length, baseline=None)"
      ],
      "execution_count": 11,
      "outputs": [
        {
          "output_type": "error",
          "ename": "NameError",
          "evalue": "ignored",
          "traceback": [
            "\u001b[0;31m---------------------------------------------------------------------------\u001b[0m",
            "\u001b[0;31mNameError\u001b[0m                                 Traceback (most recent call last)",
            "\u001b[0;32m<ipython-input-11-5f23a9c4a63f>\u001b[0m in \u001b[0;36m<module>\u001b[0;34m()\u001b[0m\n\u001b[1;32m      1\u001b[0m \u001b[0mepoch_length\u001b[0m \u001b[0;34m=\u001b[0m \u001b[0;36m2000\u001b[0m  \u001b[0;31m# seconds\u001b[0m\u001b[0;34m\u001b[0m\u001b[0;34m\u001b[0m\u001b[0m\n\u001b[0;32m----> 2\u001b[0;31m epochs = mne.Epochs(raw, dat1, event_id=11,\n\u001b[0m\u001b[1;32m      3\u001b[0m                     tmin=dat1['t_on'], tmax=dat1['t_on'] + epoch_length, baseline=None)\n",
            "\u001b[0;31mNameError\u001b[0m: name 'raw' is not defined"
          ]
        }
      ]
    }
  ]
}